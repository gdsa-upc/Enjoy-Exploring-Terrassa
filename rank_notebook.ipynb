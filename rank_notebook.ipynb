{
 "cells": [
  {
   "cell_type": "code",
   "execution_count": 1,
   "metadata": {
    "collapsed": true
   },
   "outputs": [],
   "source": [
    "import os\n",
    "import pickle\n",
    "import numpy as np\n",
    "from params import get_params\n",
    "from sklearn.metrics.pairwise import pairwise_distances\n",
    "\n",
    "# rank\n",
    "def rank(params):\n",
    "    \n",
    "    # Load train and validation feature dictionaries\n",
    "    val_features = pickle.load(open(os.path.join(params['root'],params['root_save'],params['feats_dir'],\n",
    "                             params['split'] + \"_\" + str(params['descriptor_size']) + \"_\"\n",
    "                             + params['descriptor_type'] + \"_\" + params['keypoint_type'] + '.p'),'rb'))\n",
    "\n",
    "    train_features = pickle.load(open(os.path.join(params['root'],params['root_save'],params['feats_dir'],\n",
    "                             'train' + \"_\" + str(params['descriptor_size']) + \"_\"\n",
    "                             + params['descriptor_type'] + \"_\" + params['keypoint_type'] + '.p'),'rb'))\n",
    "    \n",
    "    \n",
    "    # For each image id in the validation set\n",
    "    for val_id in val_features.keys():\n",
    "\n",
    "        # Get its feature\n",
    "        bow_feats = val_features[val_id]\n",
    "\n",
    "        # The ranking is composed with the ids of all training images\n",
    "        ranking = train_features.keys()\n",
    "        \n",
    "        X = np.array(train_features.values())\n",
    "\n",
    "        # The .squeeze() method reduces the dimensions of an array to the minimum. E.g. if we have a numpy array of shape (400,1,100) it will transform it to (400,100)\n",
    "        distances = pairwise_distances(bow_feats,X.squeeze())\n",
    "\n",
    "\n",
    "        # Sort the ranking according to the distances. We convert 'ranking' to numpy.array to sort it, and then back to list (although we could leave it as numpy array).\n",
    "        ranking = list(np.array(ranking)[np.argsort(distances.squeeze())])\n",
    "        \n",
    "        # Save to text file\n",
    "        outfile = open(os.path.join(params['root'],params['root_save'],params['rankings_dir'],params['descriptor_type'],params['split'],val_id.split('.')[0] + '.txt'),'w')\n",
    "        \n",
    "        for item in ranking:\n",
    "\n",
    "            outfile.write(item.split('.')[0] + '\\n')\n",
    "        \n",
    "        outfile.close()\n",
    "\n",
    "if __name__ == \"__main__\":\n",
    "    \n",
    "    params = get_params()\n",
    "    rank(params)"
   ]
  },
  {
   "cell_type": "code",
   "execution_count": null,
   "metadata": {
    "collapsed": true
   },
   "outputs": [],
   "source": []
  }
 ],
 "metadata": {
  "kernelspec": {
   "display_name": "Python 2",
   "language": "python",
   "name": "python2"
  },
  "language_info": {
   "codemirror_mode": {
    "name": "ipython",
    "version": 2
   },
   "file_extension": ".py",
   "mimetype": "text/x-python",
   "name": "python",
   "nbconvert_exporter": "python",
   "pygments_lexer": "ipython2",
   "version": "2.7.11"
  }
 },
 "nbformat": 4,
 "nbformat_minor": 0
}
