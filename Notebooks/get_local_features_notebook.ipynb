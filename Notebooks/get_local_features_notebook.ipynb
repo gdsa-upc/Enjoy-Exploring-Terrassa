{
 "cells": [
  {
   "cell_type": "code",
   "execution_count": null,
   "metadata": {
    "collapsed": true
   },
   "outputs": [],
   "source": [
    "from params import get_params\n",
    "import sys\n",
    "\n",
    "# We need to add the source code path to the python path if we want to call modules such as 'utils'\n",
    "params = get_params()\n",
    "sys.path.insert(0,params['src'])\n",
    "\n",
    "import os, time\n",
    "import numpy as np\n",
    "import pickle\n",
    "import cv2\n",
    "from sklearn.cluster import MiniBatchKMeans\n",
    "from sklearn.preprocessing import normalize, StandardScaler\n",
    "from sklearn.decomposition import PCA\n",
    "import warnings\n",
    "warnings.filterwarnings(\"ignore\")\n",
    "\n",
    "# get local features\n",
    "def image_local_features(im,detector,extractor):\n",
    "\n",
    "    '''\n",
    "    Extract local features for given image\n",
    "    '''\n",
    "\n",
    "    positions = detector.detect(im,None)\n",
    "    positions, descriptors = extractor.compute(im,positions)\n",
    "\n",
    "    return descriptors"
   ]
  }
 ],
 "metadata": {
  "anaconda-cloud": {},
  "kernelspec": {
   "display_name": "Python [conda root]",
   "language": "python",
   "name": "conda-root-py"
  },
  "language_info": {
   "codemirror_mode": {
    "name": "ipython",
    "version": 3
   },
   "file_extension": ".py",
   "mimetype": "text/x-python",
   "name": "python",
   "nbconvert_exporter": "python",
   "pygments_lexer": "ipython3",
   "version": "3.5.2"
  }
 },
 "nbformat": 4,
 "nbformat_minor": 1
}
