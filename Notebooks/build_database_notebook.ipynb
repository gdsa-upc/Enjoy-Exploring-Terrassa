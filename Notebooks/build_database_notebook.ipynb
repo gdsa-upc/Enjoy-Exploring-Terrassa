{
 "cells": [
  {
   "cell_type": "code",
   "execution_count": 3,
   "metadata": {
    "collapsed": true
   },
   "outputs": [],
   "source": [
    "import os\n",
    "from params import get_params\n",
    "\n",
    "def build_database(params):\n",
    "\n",
    "    # List images\n",
    "    image_names = os.listdir(os.path.join(params['root'],params['database'],params['split'],'images'))\n",
    "\n",
    "    # File to be saved\n",
    "    file = open(os.path.join(params['root'],params['root_save'],params['image_lists'],params['split'] + '.txt'),'w')\n",
    "\n",
    "    # Save image list to disk\n",
    "    for imname in image_names:\n",
    "        file.write(imname + \"\\n\")\n",
    "    file.close()\n",
    "\n",
    "\n",
    "if __name__==\"__main__\":\n",
    "\n",
    "    params = get_params()\n",
    "    \n",
    "    # Build image list for validation set\n",
    "    build_database(params)\n",
    "    \n",
    "    # Switch to training set\n",
    "    params['split'] = 'train'\n",
    "    \n",
    "    # Build image list for training set\n",
    "    build_database(params)"
   ]
  },
  {
   "cell_type": "code",
   "execution_count": null,
   "metadata": {
    "collapsed": true
   },
   "outputs": [],
   "source": []
  },
  {
   "cell_type": "code",
   "execution_count": null,
   "metadata": {
    "collapsed": true
   },
   "outputs": [],
   "source": []
  }
 ],
 "metadata": {
  "kernelspec": {
   "display_name": "Python 2",
   "language": "python",
   "name": "python2"
  },
  "language_info": {
   "codemirror_mode": {
    "name": "ipython",
    "version": 2
   },
   "file_extension": ".py",
   "mimetype": "text/x-python",
   "name": "python",
   "nbconvert_exporter": "python",
   "pygments_lexer": "ipython2",
   "version": "2.7.11"
  }
 },
 "nbformat": 4,
 "nbformat_minor": 0
}
