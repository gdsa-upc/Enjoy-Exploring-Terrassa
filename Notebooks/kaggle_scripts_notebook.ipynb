{
 "cells": [
  {
   "cell_type": "code",
   "execution_count": 1,
   "metadata": {
    "collapsed": false
   },
   "outputs": [
    {
     "ename": "SyntaxError",
     "evalue": "Missing parentheses in call to 'print' (<ipython-input-1-275f2b0ff7fa>, line 73)",
     "output_type": "error",
     "traceback": [
      "\u001b[0;36m  File \u001b[0;32m\"<ipython-input-1-275f2b0ff7fa>\"\u001b[0;36m, line \u001b[0;32m73\u001b[0m\n\u001b[0;31m    print \"Done. Annotation file saved\"\u001b[0m\n\u001b[0m                                      ^\u001b[0m\n\u001b[0;31mSyntaxError\u001b[0m\u001b[0;31m:\u001b[0m Missing parentheses in call to 'print'\n"
     ]
    }
   ],
   "source": [
    "import numpy as np\n",
    "\n",
    "# Functions to save solution files in the correct format for Kaggle Competition\n",
    "\n",
    "def save_classification_file(file_to_save, names, labels):\n",
    "\n",
    "    '''\n",
    "    Saves the classification results in the format:\n",
    "    Id,Prediction\n",
    "    24551-2934-8931,ajuntament\n",
    "    30017-26696-17117,desconegut\n",
    "    3398-20429-27862,farmacia_albinyana\n",
    "    4611-17202-4774,catedral\n",
    "    etc\n",
    "    :param file_to_save: name of the file to be saved\n",
    "    :param names: list of image ids\n",
    "    :param labels: list of predictions to the image Ids\n",
    "    '''\n",
    "\n",
    "    # Write header\n",
    "    file_to_save.write(\"Id,Prediction\\n\")\n",
    "\n",
    "    # Write image Ids and class labels\n",
    "    for i in range(len(names)):\n",
    "        file_to_save.write(names[i] + ','+ labels[i] + '\\n')\n",
    "\n",
    "    file_to_save.close()\n",
    "\n",
    "\n",
    "def save_ranking_file(file_to_save,image_id,ranking):\n",
    "\n",
    "    '''\n",
    "    :param file_to_save: name of the file to be saved\n",
    "    :param image_id: name of the query image\n",
    "    :param ranking: ranking for the image image_id\n",
    "    :return: the updated state of the file to be saved\n",
    "    '''\n",
    "\n",
    "    # Write query name\n",
    "    file_to_save.write(image_id.split('.')[0] + ',')\n",
    "\n",
    "    # Convert elements to string and ranking to list\n",
    "    ranking = np.array(ranking).astype('str').tolist()\n",
    "\n",
    "    # Write space separated ranking\n",
    "    for item in ranking:\n",
    "        file_to_save.write(item[0] + \" \")\n",
    "\n",
    "    file_to_save.write('\\n')\n",
    "\n",
    "    return file_to_save\n",
    "\n",
    "def convert_ranking_annotation(annotation_val, annotation_train, file_to_save):\n",
    "\n",
    "    # Convert ranking annotation and store it for Kaggle (only needed for teachers)\n",
    "\n",
    "    file_to_save.write('Query,RetrievedDocuments\\n')\n",
    "    for image_id in annotation_val['ImageID']:\n",
    "\n",
    "        i_class = list(annotation_val.loc[annotation_val['ImageID'] == image_id]['ClassID'])[0]\n",
    "\n",
    "        if not i_class == 'desconegut':\n",
    "\n",
    "            file_to_save.write(image_id + ',')\n",
    "            to_write = annotation_train.loc[annotation_train['ClassID'].isin([i_class])]['ImageID'].tolist()\n",
    "\n",
    "            for i in to_write:\n",
    "                file_to_save.write(i + ' ')\n",
    "            file_to_save.write('\\n')\n",
    "\n",
    "    file_to_save.close()\n",
    "\n",
    "    print \"Done. Annotation file saved\""
   ]
  },
  {
   "cell_type": "code",
   "execution_count": null,
   "metadata": {
    "collapsed": true
   },
   "outputs": [],
   "source": []
  }
 ],
 "metadata": {
  "anaconda-cloud": {},
  "kernelspec": {
   "display_name": "Python [conda root]",
   "language": "python",
   "name": "conda-root-py"
  },
  "language_info": {
   "codemirror_mode": {
    "name": "ipython",
    "version": 3
   },
   "file_extension": ".py",
   "mimetype": "text/x-python",
   "name": "python",
   "nbconvert_exporter": "python",
   "pygments_lexer": "ipython3",
   "version": "3.5.2"
  }
 },
 "nbformat": 4,
 "nbformat_minor": 1
}
